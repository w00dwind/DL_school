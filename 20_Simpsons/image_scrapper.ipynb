{
 "cells": [
  {
   "cell_type": "markdown",
   "id": "d8ca4582",
   "metadata": {
    "toc": true
   },
   "source": [
    "<h1>Table of Contents<span class=\"tocSkip\"></span></h1>\n",
    "<div class=\"toc\"><ul class=\"toc-item\"></ul></div>"
   ]
  },
  {
   "cell_type": "code",
   "execution_count": 64,
   "id": "e50daaac-6054-46c9-bd20-8f698f146a84",
   "metadata": {
    "ExecuteTime": {
     "end_time": "2023-01-26T12:12:52.791216Z",
     "start_time": "2023-01-26T12:12:52.767340Z"
    }
   },
   "outputs": [],
   "source": [
    "import requests\n",
    "import selenium\n",
    "from selenium import webdriver\n",
    "from selenium.webdriver.common.by import By\n",
    "import time\n",
    "import hashlib\n",
    "from PIL import Image\n",
    "import io, os\n",
    "from tqdm.notebook import tqdm\n",
    "from pathlib import Path\n",
    "import numpy as np\n",
    "from collections import Counter\n",
    "from shutil import copy\n",
    "\n",
    "# TARGET_PATH = './images'\n",
    "TRAIN_DIR = 'data/train/'\n",
    "PARSE_DIR = './images'\n",
    "\n",
    "def check_duplicates(url, search_term, target_path=PARSE_DIR):\n",
    "    # try:\n",
    "    image_content = requests.get(url).content\n",
    "    target_folder = os.path.join(target_path, '_'.join(search_term.lower().split(' ')))\n",
    "    file_path = os.path.join(target_folder, hashlib.sha1(image_content).hexdigest()[:10] + '.jpg')\n",
    "\n",
    "    if os.path.exists(file_path):\n",
    "        print(f\"{file_path} already exist, continue\")\n",
    "        return False\n",
    "    return True\n",
    "\n",
    "def fetch_img_urls(query:str,\n",
    "                   max_links_to_fetch:int,\n",
    "                   wd:webdriver,\n",
    "                   sleep_beetween_interactions:int=1,\n",
    "                   random_images=False,\n",
    "                  ):\n",
    "    \n",
    "    def scroll_to_end(wd):\n",
    "        wd.execute_script(\"window.scrollTo(0, document.body.scrollHeight);\")\n",
    "        time.sleep(sleep_beetween_interactions)\n",
    "\n",
    "        # except Exception:\n",
    "        #     print(f\"Something wrong, url - {url}\")\n",
    "        #     return False\n",
    "        \n",
    "    # build the google query\n",
    "    search_url = \"https://www.google.com/search?safe=off&site=&tbm=isch&source=hp&q={q}&oq={q}&gs_l=img\"\n",
    "\n",
    "    # load the page\n",
    "    wd.get(search_url.format(q=query))\n",
    "    \n",
    "    image_urls = set()\n",
    "    # last_n_images = 0\n",
    "    image_count = 0\n",
    "    results_start = 0\n",
    "    while image_count < max_links_to_fetch:\n",
    "        scroll_to_end(wd)\n",
    "        \n",
    "        # get all image thumbnail results\n",
    "        thumbnail_results = wd.find_elements(By.CSS_SELECTOR, \"img.Q4LuWd\")\n",
    "        number_results = len(thumbnail_results)\n",
    "        \n",
    "        print(f\"Found: {number_results} search results. Extracting links from {results_start}:{number_results}\")\n",
    "        \n",
    "        \n",
    "        \n",
    "        if random_images:\n",
    "            # thumbnail_results = np.random.choice(thumbnail_results[results_start:number_results], 10)\n",
    "            thumbnail_results = np.random.choice(thumbnail_results[results_start:number_results], number_results)\n",
    "        t = tqdm(total=max_links_to_fetch)    \n",
    "        for img in thumbnail_results:\n",
    "            # try to click every thumbnail such that we can get the real image behind it\n",
    "            try:\n",
    "                img.click()\n",
    "                time.sleep(sleep_beetween_interactions)\n",
    "            except Exception:\n",
    "                continue\n",
    "            \n",
    "            # extract image urls    \n",
    "            actual_images = wd.find_elements(By.CSS_SELECTOR, 'img.n3VNCb')\n",
    "            for actual_image in actual_images:\n",
    "                src = actual_image.get_attribute('src')\n",
    "\n",
    "                # print('http' in src, check_duplicates(src))\n",
    "                # if actual_image.get_attribute('src') and 'http' in actual_image.get_attribute('src'):\n",
    "                if actual_image.get_attribute('src') and 'http' in actual_image.get_attribute('src'):\n",
    "                    # print('valid link')\n",
    "                    if check_duplicates(src, query):\n",
    "                        prev_urls_len = len(image_urls)\n",
    "                        image_urls.add(actual_image.get_attribute('src'))\n",
    "                        t.update(len(image_urls) - prev_urls_len)\n",
    "            image_count = len(image_urls)\n",
    "            \n",
    "            if len(image_urls) >= max_links_to_fetch:\n",
    "                print(f\"Found: {len(image_urls)} image links, done!\")\n",
    "                \n",
    "                # t.update()\n",
    "                t.close()\n",
    "                break\n",
    "                \n",
    "            else:\n",
    "                print(f\"Found: {len(image_urls)} image links of \\\"{query}\\\", looking for more\")\n",
    "                \n",
    "                # time.sleep(np.random.uniform(3.2,12.4))\n",
    "                time.sleep(30)\n",
    "                # return\n",
    "                load_more_button = wd.find_element(By.CSS_SELECTOR, \".mye4qd\")\n",
    "                if load_more_button:\n",
    "                    wd.execute_script(\"document.querySelector('.mye4qd').click();\")\n",
    "            \n",
    "            \n",
    "            results_start = len(thumbnail_results)\n",
    "        return image_urls\n",
    "    \n",
    "    \n",
    "def persist_image(folder_path:str, urls):\n",
    "\n",
    "    for url in urls:\n",
    "        try:\n",
    "            image_content = requests.get(url).content\n",
    "        except Exception as e:\n",
    "            print(f\"ERROR - Could not download {url} - {e}\")\n",
    "\n",
    "        try:\n",
    "            image_file = io.BytesIO(image_content)\n",
    "            image = Image.open(image_file).convert('RGB')\n",
    "            file_path = os.path.join(folder_path, hashlib.sha1(image_content).hexdigest()[:10] + '.jpg')\n",
    "\n",
    "            # if os.path.exists(file_path):\n",
    "            #     print(f\"{file_path} already exist\")\n",
    "            #     continue\n",
    "\n",
    "            with open(file_path, 'wb') as f:\n",
    "                image.save(f, \"JPEG\", quality=85)\n",
    "            print(f\"SUCCESS -saved {url} - as {file_path}\")\n",
    "        except Exception as e:\n",
    "            print(f\"ERROR - Could not save {url} - {e}\")\n",
    "\n",
    "def search_and_download(search_term:str, \n",
    "                        driver_path='chromedriver',\n",
    "                        target_path=PARSE_DIR,\n",
    "                        number_images=10,\n",
    "                        click_random_img=False\n",
    "                       ):\n",
    "    \n",
    "    target_folder = os.path.join(target_path, '_'.join(search_term.lower().split(' ')))\n",
    "    \n",
    "    if not os.path.exists(target_folder):\n",
    "        os.makedirs(target_folder)\n",
    "                           \n",
    "    \n",
    "    with webdriver.Chrome(executable_path=driver_path) as wd:\n",
    "\n",
    "        res = fetch_img_urls(search_term,\n",
    "                             number_images,\n",
    "                             wd=wd,\n",
    "                             sleep_beetween_interactions=0.5,\n",
    "                             random_images=click_random_img\n",
    "                            )\n",
    "\n",
    "    # persist_image(res)\n",
    "    \n",
    "    persist_image(target_folder, res)\n",
    "    # for elem in res:\n",
    "    #     persist_image(target_folder, elem)"
   ]
  },
  {
   "cell_type": "code",
   "execution_count": 65,
   "id": "6dcf6c3f-9765-4af5-b90e-aa171901903d",
   "metadata": {
    "ExecuteTime": {
     "end_time": "2023-01-26T12:12:53.246654Z",
     "start_time": "2023-01-26T12:12:53.139134Z"
    }
   },
   "outputs": [
    {
     "name": "stdout",
     "output_type": "stream",
     "text": [
      "train and parse dirs exists.\n"
     ]
    },
    {
     "data": {
      "text/plain": [
       "{'lionel hutz simpsons': 8,\n",
       " 'gil simpsons': 17,\n",
       " 'troy mcclure simpsons': 12,\n",
       " 'miss hoover simpsons': 3,\n",
       " 'disco stu simpsons': 1}"
      ]
     },
     "execution_count": 65,
     "metadata": {},
     "output_type": "execute_result"
    }
   ],
   "source": [
    "n_img_threshold = 50 # minimum of needed images in dataset\n",
    "\n",
    "if os.path.exists(TRAIN_DIR) and os.path.exists(PARSE_DIR):\n",
    "    print('train and parse dirs exists.')\n",
    "\n",
    "img_counter = Counter([p.parent.name for p in Path(TRAIN_DIR).glob('**/*.jpg')])\n",
    "download_query_dct = {p.replace('_',' ') + ' simpsons':n_img_threshold - c for p, c in img_counter.items() if c < n_img_threshold}\n",
    "\n",
    "download_query_dct"
   ]
  },
  {
   "cell_type": "code",
   "execution_count": 66,
   "id": "cbc1abc0-8a0d-445b-ab77-cb98492d788b",
   "metadata": {
    "ExecuteTime": {
     "end_time": "2023-01-26T12:27:32.215040Z",
     "start_time": "2023-01-26T12:12:57.714240Z"
    }
   },
   "outputs": [
    {
     "name": "stdout",
     "output_type": "stream",
     "text": [
      "Found: 100 search results. Extracting links from 0:100\n"
     ]
    },
    {
     "data": {
      "application/vnd.jupyter.widget-view+json": {
       "model_id": "115e80a59e404028bf4c0ff8a73d2dc2",
       "version_major": 2,
       "version_minor": 0
      },
      "text/plain": [
       "  0%|          | 0/8 [00:00<?, ?it/s]"
      ]
     },
     "metadata": {},
     "output_type": "display_data"
    },
    {
     "name": "stdout",
     "output_type": "stream",
     "text": [
      "./images/lionel_hutz_simpsons/3a8692a565.jpg already exist, continue\n",
      "Found: 0 image links of \"lionel hutz simpsons\", looking for more\n",
      "./images/lionel_hutz_simpsons/722386c56d.jpg already exist, continue\n",
      "Found: 0 image links of \"lionel hutz simpsons\", looking for more\n",
      "Found: 3 image links of \"lionel hutz simpsons\", looking for more\n",
      "Found: 5 image links of \"lionel hutz simpsons\", looking for more\n",
      "./images/lionel_hutz_simpsons/ee2d71a5a4.jpg already exist, continue\n",
      "Found: 7 image links of \"lionel hutz simpsons\", looking for more\n",
      "Found: 7 image links of \"lionel hutz simpsons\", looking for more\n",
      "Found: 10 image links, done!\n",
      "SUCCESS -saved https://www.animationconnection.com/assets/artwork/1491918113-884-4424-lionel-hutz.jpg - as ./images/lionel_hutz_simpsons/0c4b47d038.jpg\n",
      "SUCCESS -saved https://encrypted-tbn0.gstatic.com/images?q=tbn:ANd9GcSq_cxnkotScmliSRi8yk68j_OWo6guZzixpw&usqp=CAU - as ./images/lionel_hutz_simpsons/3e8fde27eb.jpg\n",
      "SUCCESS -saved https://ih1.redbubble.net/image.1630158977.1216/st,small,507x507-pad,600x600,f8f8f8.jpg - as ./images/lionel_hutz_simpsons/dcb857404b.jpg\n",
      "SUCCESS -saved https://images.news18.com/ibnlive/uploads/2020/11/1605867981_rudy.jpeg?im=FitAndFill,width=1200,height=1200 - as ./images/lionel_hutz_simpsons/08ad8447c3.jpg\n",
      "SUCCESS -saved https://i.ebayimg.com/images/g/xuoAAAzyxb1StMu2/s-l600.jpg - as ./images/lionel_hutz_simpsons/91117f3b19.jpg\n",
      "SUCCESS -saved https://encrypted-tbn0.gstatic.com/images?q=tbn:ANd9GcSZ9X0cPa0fBDU1-XuewWGoCWNxarofhgompw&usqp=CAU - as ./images/lionel_hutz_simpsons/ef87c6ec67.jpg\n",
      "SUCCESS -saved https://encrypted-tbn0.gstatic.com/images?q=tbn:ANd9GcQnIO9wRefyHpiXqQ3IG5KqVu0bc_vVQf1DAw&usqp=CAU - as ./images/lionel_hutz_simpsons/a82b0040f7.jpg\n",
      "SUCCESS -saved https://encrypted-tbn0.gstatic.com/images?q=tbn:ANd9GcQWAbwfAH2zRvxDeUZZfR5GcoanTWyxr4ElBQ&usqp=CAU - as ./images/lionel_hutz_simpsons/03a4647a5f.jpg\n",
      "SUCCESS -saved https://encrypted-tbn0.gstatic.com/images?q=tbn:ANd9GcTRGa5n2LJ-d0DRwzItrEKTF5IYukPH6Ia10A&usqp=CAU - as ./images/lionel_hutz_simpsons/ebd3d3b38d.jpg\n",
      "SUCCESS -saved https://encrypted-tbn0.gstatic.com/images?q=tbn:ANd9GcTDZScAkCZhcxfFoWtzHuVUueaUkqUnjTBVLw&usqp=CAU - as ./images/lionel_hutz_simpsons/97b5e97dec.jpg\n",
      "Found: 100 search results. Extracting links from 0:100\n"
     ]
    },
    {
     "data": {
      "application/vnd.jupyter.widget-view+json": {
       "model_id": "29518ab4fa804e278a5249edea11a892",
       "version_major": 2,
       "version_minor": 0
      },
      "text/plain": [
       "  0%|          | 0/17 [00:00<?, ?it/s]"
      ]
     },
     "metadata": {},
     "output_type": "display_data"
    },
    {
     "name": "stdout",
     "output_type": "stream",
     "text": [
      "Found: 3 image links of \"gil simpsons\", looking for more\n",
      "Found: 6 image links of \"gil simpsons\", looking for more\n",
      "Found: 9 image links of \"gil simpsons\", looking for more\n",
      "Found: 12 image links of \"gil simpsons\", looking for more\n",
      "Found: 15 image links of \"gil simpsons\", looking for more\n",
      "Found: 15 image links of \"gil simpsons\", looking for more\n",
      "Found: 17 image links, done!\n",
      "SUCCESS -saved https://encrypted-tbn0.gstatic.com/images?q=tbn:ANd9GcSR92M-tm6c9GjV7MsURDfP2k8Z8pgcgE9qAg&usqp=CAU - as ./images/gil_simpsons/5c3e193321.jpg\n",
      "SUCCESS -saved https://assets.mycast.io/actor_images/actor-gil-gunderson-318853_large.jpg?1638941848 - as ./images/gil_simpsons/dca3d7db99.jpg\n",
      "SUCCESS -saved https://encrypted-tbn0.gstatic.com/images?q=tbn:ANd9GcRoHJNFHfSiv3AyLQfrkY2vIO7-8Jvg7MwQ2w&usqp=CAU - as ./images/gil_simpsons/dd41e31edf.jpg\n",
      "SUCCESS -saved https://encrypted-tbn0.gstatic.com/images?q=tbn:ANd9GcRi3yuIiN1L3LRZbFkNIWDLpVHDszarq_bH4Q&usqp=CAU - as ./images/gil_simpsons/8abae90831.jpg\n",
      "SUCCESS -saved https://i.imgur.com/JkQQhp4h.jpg - as ./images/gil_simpsons/5f49b09ca6.jpg\n",
      "SUCCESS -saved https://encrypted-tbn0.gstatic.com/images?q=tbn:ANd9GcSKMOUgCtPykH1rMrwqsQUBpWl64M97qUT3UQ&usqp=CAU - as ./images/gil_simpsons/edd621bf8a.jpg\n",
      "SUCCESS -saved https://encrypted-tbn0.gstatic.com/images?q=tbn:ANd9GcQMvvr5H-jkBtcKH_lXoPfkaxx3HKxvnLNXBg&usqp=CAU - as ./images/gil_simpsons/9a0136995f.jpg\n",
      "SUCCESS -saved https://encrypted-tbn0.gstatic.com/images?q=tbn:ANd9GcTFzJrwmwdU6EpTrsy2q3nfr1kgfkvNZkU_ag&usqp=CAU - as ./images/gil_simpsons/f3aba29a78.jpg\n",
      "SUCCESS -saved https://encrypted-tbn0.gstatic.com/images?q=tbn:ANd9GcSzHJBXoW3fOEmQU3nBya4C-aeQXovJVyKCKg&usqp=CAU - as ./images/gil_simpsons/1a1d61da03.jpg\n",
      "SUCCESS -saved https://encrypted-tbn0.gstatic.com/images?q=tbn:ANd9GcTp1NrX0dbefjTaTHTqvXqojigAdK6ohShjMA&usqp=CAU - as ./images/gil_simpsons/52017afdc5.jpg\n",
      "SUCCESS -saved https://encrypted-tbn0.gstatic.com/images?q=tbn:ANd9GcSkfEX5abPI-57hZDILAOH4se7vS14pwTKJ7w&usqp=CAU - as ./images/gil_simpsons/e2dfbb46af.jpg\n",
      "SUCCESS -saved https://encrypted-tbn0.gstatic.com/images?q=tbn:ANd9GcSt5I_3X0TkiiJYihgtv4WUe8gwzzy1hKM1Vg&usqp=CAU - as ./images/gil_simpsons/aec1f20a31.jpg\n",
      "SUCCESS -saved https://encrypted-tbn0.gstatic.com/images?q=tbn:ANd9GcSN8tGGXQ_GFv0vkmmAUgyYtNwRYNp01qfnrg&usqp=CAU - as ./images/gil_simpsons/07bff8f4a1.jpg\n",
      "SUCCESS -saved https://static.wikia.nocookie.net/simpsons/images/d/d8/My_Mother_the_Carjacker_47.JPG/revision/latest/scale-to-width-down/250?cb=20130702180319 - as ./images/gil_simpsons/91d82d824a.jpg\n",
      "SUCCESS -saved https://encrypted-tbn0.gstatic.com/images?q=tbn:ANd9GcTGq3wnVlmpVEEyveFfIHBVMHRFC2O-VPR0fw&usqp=CAU - as ./images/gil_simpsons/b0628e2535.jpg\n",
      "SUCCESS -saved https://m.media-amazon.com/images/M/MV5BYWQyMTVhNGItNzBkNC00ZDkzLWE0YmQtYjUxNWRkYjZhMjE3L2ltYWdlL2ltYWdlXkEyXkFqcGdeQXVyNjkzNzQ4MzA@._V1_.jpg - as ./images/gil_simpsons/aaa7ef9237.jpg\n",
      "SUCCESS -saved https://encrypted-tbn0.gstatic.com/images?q=tbn:ANd9GcSxF99FrdMQRNfiaxdqCoWrJRP5TftqggPOHg&usqp=CAU - as ./images/gil_simpsons/5fb9fcdd42.jpg\n",
      "Found: 100 search results. Extracting links from 0:100\n"
     ]
    },
    {
     "data": {
      "application/vnd.jupyter.widget-view+json": {
       "model_id": "02c4b560a1e948c595e627759353f7fa",
       "version_major": 2,
       "version_minor": 0
      },
      "text/plain": [
       "  0%|          | 0/12 [00:00<?, ?it/s]"
      ]
     },
     "metadata": {},
     "output_type": "display_data"
    },
    {
     "name": "stdout",
     "output_type": "stream",
     "text": [
      "./images/troy_mcclure_simpsons/447777b385.jpg already exist, continue\n",
      "Found: 0 image links of \"troy mcclure simpsons\", looking for more\n",
      "./images/troy_mcclure_simpsons/3ae2a942a1.jpg already exist, continue\n",
      "Found: 1 image links of \"troy mcclure simpsons\", looking for more\n",
      "Found: 4 image links of \"troy mcclure simpsons\", looking for more\n",
      "Found: 7 image links of \"troy mcclure simpsons\", looking for more\n",
      "Found: 10 image links of \"troy mcclure simpsons\", looking for more\n",
      "Found: 10 image links of \"troy mcclure simpsons\", looking for more\n",
      "Found: 13 image links, done!\n",
      "SUCCESS -saved https://i1.sndcdn.com/artworks-000477818898-kjdaix-t500x500.jpg - as ./images/troy_mcclure_simpsons/d7ef2885ab.jpg\n",
      "SUCCESS -saved https://encrypted-tbn0.gstatic.com/images?q=tbn:ANd9GcSSTb68B1OMpouKCiyZ7qvMdOgTWcZm-Jkqvw&usqp=CAU - as ./images/troy_mcclure_simpsons/6173d1a0bc.jpg\n",
      "SUCCESS -saved https://encrypted-tbn0.gstatic.com/images?q=tbn:ANd9GcSSGAOCaKe7CwPAXfWyin5vQzlw-cpBFdFSYQ&usqp=CAU - as ./images/troy_mcclure_simpsons/39edc6b2e0.jpg\n",
      "SUCCESS -saved https://encrypted-tbn0.gstatic.com/images?q=tbn:ANd9GcThCzPrKJ1Q85sMsq6wxZ7XVmj7WZ8_AvWAng&usqp=CAU - as ./images/troy_mcclure_simpsons/86359801b8.jpg\n",
      "SUCCESS -saved https://encrypted-tbn0.gstatic.com/images?q=tbn:ANd9GcQnGc9KLfi9JGDVCcHl4JNwIgfN8RE-Pgwt0Q&usqp=CAU - as ./images/troy_mcclure_simpsons/41ea58ab65.jpg\n",
      "SUCCESS -saved https://encrypted-tbn0.gstatic.com/images?q=tbn:ANd9GcTtZ1cGhk8LAaG6AUQAdb0mVHAV9EepnVeELg&usqp=CAU - as ./images/troy_mcclure_simpsons/4be9e865c5.jpg\n",
      "SUCCESS -saved https://encrypted-tbn0.gstatic.com/images?q=tbn:ANd9GcRtlL1RzcIQ9zslL_4JVZ7afWPvnmXp7nc2XA&usqp=CAU - as ./images/troy_mcclure_simpsons/2e4f630d89.jpg\n",
      "SUCCESS -saved https://cdn.shopify.com/s/files/1/0758/8457/products/DSCN8038_7_large.jpg?v=1646092769 - as ./images/troy_mcclure_simpsons/cfe4a5209d.jpg\n",
      "SUCCESS -saved https://encrypted-tbn0.gstatic.com/images?q=tbn:ANd9GcT_a9RopH0ktwR1EbzkyeXS6VrtlbvBbbSwVg&usqp=CAU - as ./images/troy_mcclure_simpsons/3343b6335f.jpg\n",
      "SUCCESS -saved https://encrypted-tbn0.gstatic.com/images?q=tbn:ANd9GcR3Xvivft-gvPvVbE8hYWJDA2t-XSsQd5bxJA&usqp=CAU - as ./images/troy_mcclure_simpsons/cf5a60c829.jpg\n",
      "SUCCESS -saved https://media.tenor.com/T_yWPSISDmUAAAAM/simpsons-troy-mc-clure.gif - as ./images/troy_mcclure_simpsons/4283eb9ae8.jpg\n",
      "SUCCESS -saved https://m.media-amazon.com/images/M/MV5BYjM0NzllZWYtNTY1YS00MzllLThhN2UtM2I4ODFiYWUwMTYxXkEyXkFqcGdeQXVyNDIzNDExOQ@@._V1_FMjpg_UX1000_.jpg - as ./images/troy_mcclure_simpsons/f930ed7f23.jpg\n",
      "SUCCESS -saved https://encrypted-tbn0.gstatic.com/images?q=tbn:ANd9GcRs6pv819f51poO_8x-rfqkNmVvrluzLajmQw&usqp=CAU - as ./images/troy_mcclure_simpsons/a2fd002307.jpg\n",
      "Found: 100 search results. Extracting links from 0:100\n"
     ]
    },
    {
     "data": {
      "application/vnd.jupyter.widget-view+json": {
       "model_id": "a64ffa9702934047b046abf23b84b7b6",
       "version_major": 2,
       "version_minor": 0
      },
      "text/plain": [
       "  0%|          | 0/3 [00:00<?, ?it/s]"
      ]
     },
     "metadata": {},
     "output_type": "display_data"
    },
    {
     "name": "stdout",
     "output_type": "stream",
     "text": [
      "Found: 1 image links of \"miss hoover simpsons\", looking for more\n",
      "./images/miss_hoover_simpsons/89e4b9bb3f.jpg already exist, continue\n",
      "Found: 2 image links of \"miss hoover simpsons\", looking for more\n",
      "Found: 3 image links, done!\n",
      "SUCCESS -saved https://cdn.drawception.com/drawings/634633/9Z4kW9PKrJ.png - as ./images/miss_hoover_simpsons/cb175b8f61.jpg\n",
      "SUCCESS -saved https://encrypted-tbn0.gstatic.com/images?q=tbn:ANd9GcTbFqA9n4_J6dPey5PzbtN6OXtQVGPbF6Zuqw&usqp=CAU - as ./images/miss_hoover_simpsons/d30596a8aa.jpg\n",
      "SUCCESS -saved https://i.pinimg.com/originals/7b/9d/24/7b9d2484fee311558d55a50841f75a92.jpg - as ./images/miss_hoover_simpsons/e1446cd6b2.jpg\n",
      "Found: 100 search results. Extracting links from 0:100\n"
     ]
    },
    {
     "data": {
      "application/vnd.jupyter.widget-view+json": {
       "model_id": "4d0b2d9bea5442e98c0f9fb29b421443",
       "version_major": 2,
       "version_minor": 0
      },
      "text/plain": [
       "  0%|          | 0/1 [00:00<?, ?it/s]"
      ]
     },
     "metadata": {},
     "output_type": "display_data"
    },
    {
     "name": "stdout",
     "output_type": "stream",
     "text": [
      "./images/disco_stu_simpsons/0fc90e7633.jpg already exist, continue\n",
      "Found: 0 image links of \"disco stu simpsons\", looking for more\n",
      "./images/disco_stu_simpsons/e93d16285e.jpg already exist, continue\n",
      "Found: 0 image links of \"disco stu simpsons\", looking for more\n",
      "Found: 0 image links of \"disco stu simpsons\", looking for more\n"
     ]
    }
   ],
   "source": [
    "for person, n_images in download_query_dct.items():\n",
    "    # print(f\"loop n_images = {n_images}\")\n",
    "    search_and_download(person, number_images=n_images, click_random_img=True)"
   ]
  },
  {
   "cell_type": "code",
   "execution_count": 67,
   "id": "2b694401",
   "metadata": {
    "ExecuteTime": {
     "end_time": "2023-01-26T12:30:48.297126Z",
     "start_time": "2023-01-26T12:30:48.184243Z"
    }
   },
   "outputs": [
    {
     "name": "stdout",
     "output_type": "stream",
     "text": [
      "data/train/sideshow_mel/1198533200.jpg\n",
      "data/train/sideshow_mel/c119a7880f.jpg\n",
      "data/train/sideshow_mel/170b992821.jpg\n",
      "data/train/sideshow_mel/dd10e6e569.jpg\n",
      "data/train/sideshow_mel/39649c9e04.jpg\n",
      "data/train/sideshow_mel/2e2b85e9b6.jpg\n",
      "data/train/sideshow_mel/c1a0e44e60.jpg\n",
      "data/train/sideshow_mel/ed2abc4424.jpg\n",
      "data/train/sideshow_mel/7fdf586dd7.jpg\n",
      "data/train/sideshow_mel/3a8d86bfcd.jpg\n",
      "data/train/sideshow_mel/c3fbd3e3db.jpg\n",
      "data/train/miss_hoover/dab537e39a.jpg\n",
      "data/train/miss_hoover/89e4b9bb3f.jpg\n",
      "data/train/miss_hoover/1ab94cb9eb.jpg\n",
      "data/train/miss_hoover/8158595db0.jpg\n",
      "data/train/miss_hoover/e1446cd6b2.jpg\n",
      "data/train/miss_hoover/9cf48249d9.jpg\n",
      "data/train/miss_hoover/3980104836.jpg\n",
      "data/train/miss_hoover/11b6f810c2.jpg\n",
      "data/train/miss_hoover/9cb6b56332.jpg\n",
      "data/train/miss_hoover/82fe44f1aa.jpg\n",
      "data/train/miss_hoover/37c7ffd537.jpg\n",
      "data/train/miss_hoover/1e52cf5054.jpg\n",
      "data/train/miss_hoover/fbff75fbbc.jpg\n",
      "data/train/miss_hoover/20ca1c5390.jpg\n",
      "data/train/miss_hoover/312d0c4117.jpg\n",
      "data/train/miss_hoover/2f37a95d43.jpg\n",
      "data/train/miss_hoover/49850c50d2.jpg\n",
      "data/train/miss_hoover/3078428f7f.jpg\n",
      "data/train/miss_hoover/a2dd203374.jpg\n",
      "data/train/miss_hoover/4af0c4f4fc.jpg\n",
      "data/train/miss_hoover/cb175b8f61.jpg\n",
      "data/train/miss_hoover/b07f4977d2.jpg\n",
      "data/train/miss_hoover/a9d270b4e6.jpg\n",
      "data/train/miss_hoover/2bbeead387.jpg\n",
      "data/train/miss_hoover/0d7e13a562.jpg\n",
      "data/train/miss_hoover/c4d13b035d.jpg\n",
      "data/train/miss_hoover/d30596a8aa.jpg\n",
      "data/train/rainier_wolfcastle/6427e4ea47.jpg\n",
      "data/train/rainier_wolfcastle/0e896e4416.jpg\n",
      "data/train/rainier_wolfcastle/2a79746f84.jpg\n",
      "data/train/rainier_wolfcastle/f2bc05edb0.jpg\n",
      "data/train/rainier_wolfcastle/bbc1e12f4d.jpg\n",
      "data/train/rainier_wolfcastle/0d3873a0b6.jpg\n",
      "data/train/rainier_wolfcastle/c94151bbfb.jpg\n",
      "data/train/cletus_spuckler/08bbb59472.jpg\n",
      "data/train/cletus_spuckler/a24d873096.jpg\n",
      "data/train/cletus_spuckler/f56d424eb0.jpg\n",
      "data/train/cletus_spuckler/c11cb84727.jpg\n",
      "data/train/cletus_spuckler/088a5d0dc7.jpg\n",
      "data/train/cletus_spuckler/cf417ed55c.jpg\n",
      "data/train/cletus_spuckler/01d06c073e.jpg\n",
      "data/train/cletus_spuckler/3cb6cc4744.jpg\n",
      "data/train/cletus_spuckler/38308c67a2.jpg\n",
      "data/train/cletus_spuckler/b7f27573f9.jpg\n",
      "data/train/lionel_hutz/bd9383891f.jpg\n",
      "data/train/lionel_hutz/c8589a4e0b.jpg\n",
      "data/train/lionel_hutz/ebd3d3b38d.jpg\n",
      "data/train/lionel_hutz/784b11d9e3.jpg\n",
      "data/train/lionel_hutz/dddb65ba5b.jpg\n",
      "data/train/lionel_hutz/06149e96e8.jpg\n",
      "data/train/lionel_hutz/9ff2d153c7.jpg\n",
      "data/train/lionel_hutz/e5e5855186.jpg\n",
      "data/train/lionel_hutz/8fa8c3dec6.jpg\n",
      "data/train/lionel_hutz/91117f3b19.jpg\n",
      "data/train/lionel_hutz/722386c56d.jpg\n",
      "data/train/lionel_hutz/08ad8447c3.jpg\n",
      "data/train/lionel_hutz/83c5539295.jpg\n",
      "data/train/lionel_hutz/324caeaa80.jpg\n",
      "data/train/lionel_hutz/e5e3c4ee2b.jpg\n",
      "data/train/lionel_hutz/bef4a30888.jpg\n",
      "data/train/lionel_hutz/25342f133a.jpg\n",
      "data/train/lionel_hutz/0c4b47d038.jpg\n",
      "data/train/lionel_hutz/97b5e97dec.jpg\n",
      "data/train/lionel_hutz/4056a907d6.jpg\n",
      "data/train/lionel_hutz/03a4647a5f.jpg\n",
      "data/train/lionel_hutz/dcb857404b.jpg\n",
      "data/train/lionel_hutz/3a8692a565.jpg\n",
      "data/train/lionel_hutz/af4aefefac.jpg\n",
      "data/train/lionel_hutz/ef87c6ec67.jpg\n",
      "data/train/lionel_hutz/4f3549cc39.jpg\n",
      "data/train/lionel_hutz/d9c20853fc.jpg\n",
      "data/train/lionel_hutz/a48af5f9dd.jpg\n",
      "data/train/lionel_hutz/5a16fa1816.jpg\n",
      "data/train/lionel_hutz/d8efa730f7.jpg\n",
      "data/train/lionel_hutz/ee2d71a5a4.jpg\n",
      "data/train/lionel_hutz/469b5b57c7.jpg\n",
      "data/train/lionel_hutz/69e00ed565.jpg\n",
      "data/train/lionel_hutz/daef0f2fae.jpg\n",
      "data/train/lionel_hutz/d37fdf5bac.jpg\n",
      "data/train/lionel_hutz/a6bd48f296.jpg\n",
      "data/train/lionel_hutz/d85d29fac5.jpg\n",
      "data/train/lionel_hutz/d4e79881b9.jpg\n",
      "data/train/lionel_hutz/3e8fde27eb.jpg\n",
      "data/train/lionel_hutz/46622b071e.jpg\n",
      "data/train/lionel_hutz/473623143d.jpg\n",
      "data/train/lionel_hutz/e1bc3f8413.jpg\n",
      "data/train/lionel_hutz/08c7962e62.jpg\n",
      "data/train/lionel_hutz/97596c004d.jpg\n",
      "data/train/lionel_hutz/a82b0040f7.jpg\n",
      "data/train/lionel_hutz/6fbc12880a.jpg\n",
      "data/train/lionel_hutz/87679d0535.jpg\n",
      "data/train/lionel_hutz/2176342ac1.jpg\n",
      "data/train/lionel_hutz/7ef6438ccc.jpg\n",
      "data/train/otto_mann/407ef3c482.jpg\n",
      "data/train/otto_mann/3e605be9c7.jpg\n",
      "data/train/otto_mann/ec381278d5.jpg\n",
      "data/train/otto_mann/e77324ef99.jpg\n",
      "data/train/otto_mann/7fe893a204.jpg\n",
      "data/train/otto_mann/a2ff8bba78.jpg\n",
      "data/train/otto_mann/bce457616b.jpg\n",
      "data/train/otto_mann/6264ac8c68.jpg\n",
      "data/train/otto_mann/0a4004df57.jpg\n",
      "data/train/otto_mann/cd13843cdf.jpg\n",
      "data/train/otto_mann/5678f63091.jpg\n",
      "data/train/agnes_skinner/95318a66fc.jpg\n",
      "data/train/agnes_skinner/79b83b0676.jpg\n",
      "data/train/agnes_skinner/e7dacfc022.jpg\n",
      "data/train/agnes_skinner/62905f26c8.jpg\n",
      "data/train/agnes_skinner/a365e76682.jpg\n",
      "data/train/agnes_skinner/836dc70aee.jpg\n",
      "data/train/agnes_skinner/1dee74171c.jpg\n",
      "data/train/agnes_skinner/559367c143.jpg\n",
      "data/train/troy_mcclure/22b3f903b8.jpg\n",
      "data/train/troy_mcclure/647d7683f6.jpg\n",
      "data/train/troy_mcclure/70f4d8196a.jpg\n",
      "data/train/troy_mcclure/e0f2706625.jpg\n",
      "data/train/troy_mcclure/48d07266c3.jpg\n",
      "data/train/troy_mcclure/f930ed7f23.jpg\n",
      "data/train/troy_mcclure/7bb2de25e9.jpg\n",
      "data/train/troy_mcclure/946b63ae5c.jpg\n",
      "data/train/troy_mcclure/d88c281e80.jpg\n",
      "data/train/troy_mcclure/39edc6b2e0.jpg\n",
      "data/train/troy_mcclure/cfe4a5209d.jpg\n",
      "data/train/troy_mcclure/69f0ef5aff.jpg\n",
      "data/train/troy_mcclure/4283eb9ae8.jpg\n",
      "data/train/troy_mcclure/7b8ed27785.jpg\n",
      "data/train/troy_mcclure/2fb7cb83a2.jpg\n",
      "data/train/troy_mcclure/94316cdeba.jpg\n",
      "data/train/troy_mcclure/13e9fa4c54.jpg\n",
      "data/train/troy_mcclure/a802824703.jpg\n",
      "data/train/troy_mcclure/758a60914d.jpg\n",
      "data/train/troy_mcclure/447777b385.jpg\n",
      "data/train/troy_mcclure/cf5a60c829.jpg\n",
      "data/train/troy_mcclure/cc8af2edb5.jpg\n",
      "data/train/troy_mcclure/0b47e0acc4.jpg\n",
      "data/train/troy_mcclure/3343b6335f.jpg\n",
      "data/train/troy_mcclure/e9e1005b05.jpg\n",
      "data/train/troy_mcclure/3ae2a942a1.jpg\n",
      "data/train/troy_mcclure/2e4f630d89.jpg\n",
      "data/train/troy_mcclure/c7a847c883.jpg\n",
      "data/train/troy_mcclure/1baaeb914a.jpg\n",
      "data/train/troy_mcclure/86359801b8.jpg\n",
      "data/train/troy_mcclure/4be9e865c5.jpg\n",
      "data/train/troy_mcclure/2c9a853b3f.jpg\n",
      "data/train/troy_mcclure/6ad27fe3ce.jpg\n",
      "data/train/troy_mcclure/83c72becb8.jpg\n",
      "data/train/troy_mcclure/a2fd002307.jpg\n",
      "data/train/troy_mcclure/d7ef2885ab.jpg\n",
      "data/train/troy_mcclure/fb130c4498.jpg\n",
      "data/train/troy_mcclure/41ea58ab65.jpg\n",
      "data/train/troy_mcclure/6173d1a0bc.jpg\n",
      "data/train/troy_mcclure/b017313bd2.jpg\n",
      "data/train/troy_mcclure/3626a7d42c.jpg\n",
      "data/train/troy_mcclure/41ca99472a.jpg\n",
      "data/train/disco_stu/d3998d1b6c.jpg\n",
      "data/train/disco_stu/e276c09248.jpg\n",
      "data/train/disco_stu/fcd0da9ba2.jpg\n",
      "data/train/disco_stu/9501fcccc4.jpg\n",
      "data/train/disco_stu/9da0df40ec.jpg\n",
      "data/train/disco_stu/b05e5d223b.jpg\n",
      "data/train/disco_stu/c2e871af82.jpg\n",
      "data/train/disco_stu/0fc90e7633.jpg\n",
      "data/train/disco_stu/687b09b32d.jpg\n",
      "data/train/disco_stu/240d61656e.jpg\n",
      "data/train/disco_stu/5dbbe5bf5c.jpg\n",
      "data/train/disco_stu/1a49862ec6.jpg\n",
      "data/train/disco_stu/2c081be413.jpg\n",
      "data/train/disco_stu/76fcf45d97.jpg\n",
      "data/train/disco_stu/e93d16285e.jpg\n",
      "data/train/disco_stu/78682d6433.jpg\n",
      "data/train/disco_stu/8ccc19de62.jpg\n",
      "data/train/disco_stu/427f84e2b1.jpg\n",
      "data/train/disco_stu/522f85fb94.jpg\n",
      "data/train/disco_stu/c780afe8f0.jpg\n",
      "data/train/disco_stu/388dacbf82.jpg\n",
      "data/train/disco_stu/0ed3c26cbe.jpg\n",
      "data/train/gil/aaa7ef9237.jpg\n",
      "data/train/gil/dca3d7db99.jpg\n",
      "data/train/gil/1a1d61da03.jpg\n",
      "data/train/gil/f3aba29a78.jpg\n",
      "data/train/gil/07bff8f4a1.jpg\n",
      "data/train/gil/5fb9fcdd42.jpg\n",
      "data/train/gil/dd41e31edf.jpg\n",
      "data/train/gil/e2dfbb46af.jpg\n",
      "data/train/gil/edd621bf8a.jpg\n",
      "data/train/gil/5c3e193321.jpg\n",
      "data/train/gil/aec1f20a31.jpg\n",
      "data/train/gil/52017afdc5.jpg\n",
      "data/train/gil/8abae90831.jpg\n",
      "data/train/gil/b0628e2535.jpg\n",
      "data/train/gil/5f49b09ca6.jpg\n",
      "data/train/gil/91d82d824a.jpg\n",
      "data/train/gil/9a0136995f.jpg\n",
      "data/train/fat_tony/f65e4b1338.jpg\n",
      "data/train/fat_tony/2ef084aa8b.jpg\n",
      "data/train/fat_tony/7974ad759c.jpg\n",
      "data/train/fat_tony/772bf52807.jpg\n",
      "data/train/fat_tony/262707cc54.jpg\n",
      "data/train/fat_tony/6a45132657.jpg\n",
      "data/train/fat_tony/eb8a8dc9fe.jpg\n",
      "data/train/fat_tony/69c7bdd56d.jpg\n",
      "data/train/fat_tony/dff43751e2.jpg\n",
      "data/train/fat_tony/c6366e2161.jpg\n",
      "data/train/fat_tony/c48b2ad640.jpg\n",
      "data/train/fat_tony/6ebcc645f8.jpg\n",
      "data/train/fat_tony/b40ae0726b.jpg\n",
      "data/train/fat_tony/d889430eb7.jpg\n",
      "data/train/fat_tony/df6e27ce00.jpg\n",
      "data/train/fat_tony/e60698ee1e.jpg\n",
      "data/train/fat_tony/ab16a02825.jpg\n",
      "data/train/fat_tony/1c728feda0.jpg\n",
      "data/train/fat_tony/793afc18a1.jpg\n",
      "data/train/fat_tony/745c8d7eaf.jpg\n",
      "data/train/fat_tony/42799d8ba0.jpg\n",
      "data/train/fat_tony/b2f4aab996.jpg\n",
      "data/train/fat_tony/7b5fe48b03.jpg\n",
      "data/train/fat_tony/2c7e58cf0a.jpg\n"
     ]
    }
   ],
   "source": [
    "parsed_img_list = list(Path(PARSE_DIR).glob('**/*.jpg'))\n",
    "\n",
    "for n, img in enumerate(parsed_img_list):\n",
    "    path_from = img\n",
    "    target_folder = '_'.join(str(img.parent.name).split('_')[:-1])\n",
    "#     last_folder = '_'.join(str(parsed_img_list[n - 1].parent.name).split('_')[:-1])\n",
    "    path_to = Path(TRAIN_DIR).joinpath(target_folder,)\n",
    "#     print(path_from.exists(), path_to.exists())\n",
    "    try:\n",
    "        print(copy(path_from, path_to))\n",
    "#         if n != 0 and target_folder != last_folder:\n",
    "#             print(f\"Sucsessfull copied {last_folder}\")\n",
    "    except Exception:\n",
    "        print(f\"Something wrong with path - {path_to}\")\n"
   ]
  },
  {
   "cell_type": "code",
   "execution_count": 48,
   "id": "9917c412",
   "metadata": {
    "ExecuteTime": {
     "end_time": "2023-01-26T12:03:31.442551Z",
     "start_time": "2023-01-26T12:03:31.430094Z"
    }
   },
   "outputs": [
    {
     "data": {
      "text/plain": [
       "'data/copy_parsed.sh'"
      ]
     },
     "execution_count": 48,
     "metadata": {},
     "output_type": "execute_result"
    }
   ],
   "source": [
    "copy(Path('copy_parsed.sh'), Path('data/'))"
   ]
  },
  {
   "cell_type": "code",
   "execution_count": 57,
   "id": "cef98256",
   "metadata": {
    "ExecuteTime": {
     "end_time": "2023-01-26T12:07:28.905114Z",
     "start_time": "2023-01-26T12:07:28.895622Z"
    }
   },
   "outputs": [],
   "source": [
    "tmp = ['data/train/sideshow_mel/1198533200.jpg',\n",
    "'data/train/sideshow_mel/c119a7880f.jpg',\n",
    "'data/train/sideshow_mel/170b992821.jpg',\n",
    "'data/train/sideshow_mel/dd10e6e569.jpg',\n",
    "'data/train/sideshow_mel/39649c9e04.jpg',\n",
    "'data/train/sideshow_mel/2e2b85e9b6.jpg',\n",
    "'data/train/sideshow_mel/c1a0e44e60.jpg',\n",
    "'data/train/sideshow_mel/ed2abc4424.jpg',\n",
    "'data/train/sideshow_mel/7fdf586dd7.jpg',\n",
    "'data/train/sideshow_mel/3a8d86bfcd.jpg']"
   ]
  },
  {
   "cell_type": "code",
   "execution_count": 58,
   "id": "51bf3b20",
   "metadata": {
    "ExecuteTime": {
     "end_time": "2023-01-26T12:07:29.078014Z",
     "start_time": "2023-01-26T12:07:29.069335Z"
    }
   },
   "outputs": [
    {
     "name": "stdout",
     "output_type": "stream",
     "text": [
      "True\n",
      "True\n",
      "True\n",
      "True\n",
      "True\n",
      "True\n",
      "True\n",
      "True\n",
      "True\n",
      "True\n"
     ]
    }
   ],
   "source": [
    "for i in tmp:\n",
    "    print(Path(i).exists())"
   ]
  },
  {
   "cell_type": "code",
   "execution_count": null,
   "id": "11d78f1b",
   "metadata": {},
   "outputs": [],
   "source": []
  }
 ],
 "metadata": {
  "kernelspec": {
   "display_name": "Python 3 (ipykernel)",
   "language": "python",
   "name": "python3"
  },
  "language_info": {
   "codemirror_mode": {
    "name": "ipython",
    "version": 3
   },
   "file_extension": ".py",
   "mimetype": "text/x-python",
   "name": "python",
   "nbconvert_exporter": "python",
   "pygments_lexer": "ipython3",
   "version": "3.10.8"
  },
  "nbTranslate": {
   "displayLangs": [
    "*"
   ],
   "hotkey": "alt-t",
   "langInMainMenu": true,
   "sourceLang": "en",
   "targetLang": "fr",
   "useGoogleTranslate": true
  },
  "toc": {
   "base_numbering": 1,
   "nav_menu": {},
   "number_sections": false,
   "sideBar": true,
   "skip_h1_title": false,
   "title_cell": "Table of Contents",
   "title_sidebar": "Contents",
   "toc_cell": true,
   "toc_position": {},
   "toc_section_display": true,
   "toc_window_display": true
  },
  "varInspector": {
   "cols": {
    "lenName": 16,
    "lenType": 16,
    "lenVar": 40
   },
   "kernels_config": {
    "python": {
     "delete_cmd_postfix": "",
     "delete_cmd_prefix": "del ",
     "library": "var_list.py",
     "varRefreshCmd": "print(var_dic_list())"
    },
    "r": {
     "delete_cmd_postfix": ") ",
     "delete_cmd_prefix": "rm(",
     "library": "var_list.r",
     "varRefreshCmd": "cat(var_dic_list()) "
    }
   },
   "types_to_exclude": [
    "module",
    "function",
    "builtin_function_or_method",
    "instance",
    "_Feature"
   ],
   "window_display": false
  }
 },
 "nbformat": 4,
 "nbformat_minor": 5
}
